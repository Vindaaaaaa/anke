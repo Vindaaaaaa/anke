{
 "cells": [
  {
   "cell_type": "code",
   "execution_count": 1,
   "id": "119be532",
   "metadata": {},
   "outputs": [
    {
     "name": "stdout",
     "output_type": "stream",
     "text": [
      "Requirement already satisfied: pandas in d:\\anaconda3\\lib\\site-packages (1.5.3)\n",
      "Requirement already satisfied: openpyxl in d:\\anaconda3\\lib\\site-packages (3.0.10)\n",
      "Requirement already satisfied: numpy in d:\\anaconda3\\lib\\site-packages (1.24.3)\n",
      "Requirement already satisfied: pyperclip in d:\\anaconda3\\lib\\site-packages (1.9.0)\n",
      "Requirement already satisfied: python-dateutil>=2.8.1 in d:\\anaconda3\\lib\\site-packages (from pandas) (2.8.2)\n",
      "Requirement already satisfied: pytz>=2020.1 in d:\\anaconda3\\lib\\site-packages (from pandas) (2022.7)\n",
      "Requirement already satisfied: et_xmlfile in d:\\anaconda3\\lib\\site-packages (from openpyxl) (1.1.0)\n",
      "Requirement already satisfied: six>=1.5 in d:\\anaconda3\\lib\\site-packages (from python-dateutil>=2.8.1->pandas) (1.16.0)\n",
      "Note: you may need to restart the kernel to use updated packages.\n"
     ]
    }
   ],
   "source": [
    "#安装第三方包\n",
    "pip install pandas openpyxl numpy pyperclip"
   ]
  },
  {
   "cell_type": "code",
   "execution_count": 1,
   "id": "99e0f003",
   "metadata": {},
   "outputs": [],
   "source": [
    "# 导入\n",
    "import pandas as pd\n",
    "from datetime import datetime\n",
    "import re\n",
    "from openpyxl.utils import get_column_letter\n",
    "from pandas import ExcelWriter\n",
    "import numpy as np\n",
    "import pyperclip\n",
    "import os"
   ]
  },
  {
   "cell_type": "code",
   "execution_count": 5,
   "id": "81ebc338",
   "metadata": {},
   "outputs": [
    {
     "name": "stderr",
     "output_type": "stream",
     "text": [
      "C:\\Users\\19872\\AppData\\Local\\Temp\\ipykernel_32052\\2005464941.py:26: DeprecationWarning: In a future version, `df.iloc[:, i] = newvals` will attempt to set the values inplace instead of always setting a new array. To retain the old behavior, use either `df[df.columns[i]] = newvals` or, if columns are non-unique, `df.isetitem(i, newvals)`\n",
      "  df.iloc[:, 0] = pd.to_numeric(df.iloc[:, 0], errors='coerce')  # 转成数字，非法项为NaN\n"
     ]
    },
    {
     "name": "stdout",
     "output_type": "stream",
     "text": [
      "文件处理完毕。\n"
     ]
    },
    {
     "name": "stderr",
     "output_type": "stream",
     "text": [
      "C:\\Users\\19872\\AppData\\Local\\Temp\\ipykernel_32052\\2005464941.py:26: DeprecationWarning: In a future version, `df.iloc[:, i] = newvals` will attempt to set the values inplace instead of always setting a new array. To retain the old behavior, use either `df[df.columns[i]] = newvals` or, if columns are non-unique, `df.isetitem(i, newvals)`\n",
      "  df.iloc[:, 0] = pd.to_numeric(df.iloc[:, 0], errors='coerce')  # 转成数字，非法项为NaN\n"
     ]
    }
   ],
   "source": [
    "# 输入上次和本次采集数据的日期\n",
    "datetime_last = datetime(2025,7,15) # 上次采集数据的日期\n",
    "datetime_this = datetime(2025,7,16) # 本次采集数据的日期\n",
    "\n",
    "# 构造文件路径\n",
    "def get_file_paths(date):\n",
    "    date_str = date.strftime('%Y-%m-%d')\n",
    "    raw_path = f'raw_data/calculate-{date_str}.xlsx'\n",
    "    save_path = f'raw_data/proceed/calculate-{date_str}.xlsx'\n",
    "    return raw_path, save_path\n",
    "\n",
    "# 创建保存目录（如果不存在）\n",
    "os.makedirs('raw_data/proceed', exist_ok=True)\n",
    "\n",
    "# 处理单个文件\n",
    "def process_file(input_path, output_path):\n",
    "    # 读取文件\n",
    "    df = pd.read_excel(input_path)\n",
    "\n",
    "    # 2.1 去除前两列\n",
    "    df = df.iloc[:, 2:]\n",
    "\n",
    "    # 2.2 去除第三列中的所有“#”，并转换为数值型以便正确排序\n",
    "    if df.shape[1] >= 1:\n",
    "        df.iloc[:, 0] = df.iloc[:, 0].astype(str).str.replace('#', '', regex=False)\n",
    "        df.iloc[:, 0] = pd.to_numeric(df.iloc[:, 0], errors='coerce')  # 转成数字，非法项为NaN\n",
    "\n",
    "    # 2.3 根据第三列排序（现在是第一列）\n",
    "    df = df.sort_values(by=df.columns[0], ascending=True)\n",
    "\n",
    "    # 2.4 去除重复行\n",
    "    df = df.drop_duplicates()\n",
    "    \n",
    "    # 2.5 将最后一列中的空值替换为 0\n",
    "    if df.shape[1] >= 1:\n",
    "        df.iloc[:, -1] = df.iloc[:, -1].fillna(0)\n",
    "    \n",
    "    # 保存结果\n",
    "    df.to_excel(output_path, index=False)\n",
    "\n",
    "# 处理两个文件\n",
    "for dt in [datetime_last, datetime_this]:\n",
    "    input_file, output_file = get_file_paths(dt)\n",
    "    process_file(input_file, output_file)\n",
    "\n",
    "print(\"文件处理完毕。\")\n"
   ]
  },
  {
   "cell_type": "code",
   "execution_count": 12,
   "id": "e39e52b5",
   "metadata": {},
   "outputs": [
    {
     "name": "stdout",
     "output_type": "stream",
     "text": [
      "===== 分析报告 =====\n",
      "在 2025-07-16 的帖子中\n",
      "一共有 319 条回复。\n",
      "其中楼主更新了 234 条，\n",
      "观众回复了 85 条，\n",
      "总推荐数为 816，\n",
      "楼主获得推荐为 726，\n",
      "观众回复获得推荐为 90\n",
      "\n",
      "相比于 2025-07-15：\n",
      "[更新] 楼主更新了 1 次。\n",
      "[推荐] 增加了 2 推荐。\n",
      "[获得推荐] 发生推荐变化的更新楼层：\n",
      "  第 317 楼获得了 1 推荐\n",
      "[新增更新推荐] 新增更新获得了 1 推荐，楼层：318\n",
      "[回复] 增加了 0 回复。\n",
      "[回复推荐] 增加了 0 推荐。\n",
      "[获得推荐] 所有回复都没有获得推荐\n"
     ]
    }
   ],
   "source": [
    "# 设置用户名\n",
    "username = '斯格里芬'\n",
    "\n",
    "# 构造文件路径\n",
    "def get_file_path(date):\n",
    "    date_str = date.strftime('%Y-%m-%d')\n",
    "    return f'raw_data/proceed/calculate-{date_str}.xlsx'\n",
    "\n",
    "# 读取数据\n",
    "df_last = pd.read_excel(get_file_path(datetime_last))\n",
    "df_this = pd.read_excel(get_file_path(datetime_this))\n",
    "\n",
    "# 按用户名拆分\n",
    "def split_by_username(df, username_column='author'):\n",
    "    if username_column not in df.columns:\n",
    "        raise ValueError(f\"列 '{username_column}' 不存在，请检查 Excel 文件。\")\n",
    "    return df[df[username_column] == username], df[df[username_column] != username]\n",
    "\n",
    "df_last_same, df_last_diff = split_by_username(df_last)\n",
    "df_this_same, df_this_diff = split_by_username(df_this)\n",
    "\n",
    "# 打印当天总体概览\n",
    "print(\"===== 分析报告 =====\")\n",
    "print(f\"在 {datetime_this.date()} 的帖子中\")\n",
    "total_rows   = len(df_this)\n",
    "same_rows    = len(df_this_same)\n",
    "diff_rows    = len(df_this_diff)\n",
    "total_reco   = df_this.iloc[:, -1].sum()\n",
    "same_reco    = df_this_same.iloc[:, -1].sum()\n",
    "diff_reco    = df_this_diff.iloc[:, -1].sum()\n",
    "\n",
    "print(f\"一共有 {total_rows} 条回复。\")\n",
    "print(f\"其中楼主更新了 {same_rows} 条，\")\n",
    "print(f\"观众回复了 {diff_rows} 条，\")\n",
    "print(f\"总推荐数为 {total_reco}，\")\n",
    "print(f\"楼主获得推荐为 {same_reco}，\")\n",
    "print(f\"观众回复获得推荐为 {diff_reco}\")\n",
    "\n",
    "print(f\"\\n相比于 {datetime_last.date()}：\")\n",
    "\n",
    "def analyze_diff(df1, df2, label, is_reply=False):\n",
    "    # 1) 行数差异\n",
    "    delta_rows = len(df2) - len(df1)\n",
    "    if is_reply:\n",
    "        print(f\"[回复] 增加了 {delta_rows} 回复。\")\n",
    "    else:\n",
    "        print(f\"[更新] 楼主更新了 {delta_rows} 次。\")\n",
    "\n",
    "    # 2) 推荐数总变化\n",
    "    delta_reco = df2.iloc[:, -1].sum() - df1.iloc[:, -1].sum()\n",
    "    if is_reply:\n",
    "        print(f\"[回复推荐] 增加了 {delta_reco} 推荐。\")\n",
    "    else:\n",
    "        print(f\"[推荐] 增加了 {delta_reco} 推荐。\")\n",
    "\n",
    "    # 3) 共同行的推荐差值\n",
    "    cols = list(df1.columns[:-1])\n",
    "    df1_idx = df1.set_index(cols)\n",
    "    df2_idx = df2.set_index(cols)\n",
    "    common = df1_idx.index.intersection(df2_idx.index)\n",
    "\n",
    "    if len(common) > 0:\n",
    "        diffs = df2_idx.loc[common].iloc[:, -1] - df1_idx.loc[common].iloc[:, -1]\n",
    "        positive = diffs[diffs > 0]\n",
    "        if not positive.empty:\n",
    "            tag = \"回复\" if is_reply else \"更新楼层\"\n",
    "            print(f\"[获得推荐] 发生推荐变化的{tag}：\")\n",
    "            for idx, inc in positive.items():\n",
    "                floor = idx[0] if isinstance(idx, tuple) else idx\n",
    "                print(f\"  第 {floor} 楼获得了 {inc} 推荐\")\n",
    "        else:\n",
    "            print(f\"[获得推荐] 所有回复都没有获得推荐\")\n",
    "    else:\n",
    "        print(f\"[获得推荐] 无可比较的相同行\")\n",
    "\n",
    "    # 4) 新增行的推荐总和及楼层列表\n",
    "    new_entries = set(df2_idx.index) - set(df1_idx.index)\n",
    "    if new_entries:\n",
    "        added_sum = 0\n",
    "        floors = []\n",
    "        for key in new_entries:\n",
    "            val = df2_idx.loc[key].iloc[-1]\n",
    "            if val > 0:\n",
    "                added_sum += val\n",
    "                # 提取楼层号（索引的第一个元素）\n",
    "                floor = key[0] if isinstance(key, tuple) else key\n",
    "                floors.append(floor)\n",
    "        if added_sum > 0:\n",
    "            if is_reply:\n",
    "                print(f\"[新增回复推荐] 新增回复获得了 {added_sum} 推荐，楼层：{', '.join(map(str, floors))}\")\n",
    "            else:\n",
    "                print(f\"[新增更新推荐] 新增更新获得了 {added_sum} 推荐，楼层：{', '.join(map(str, floors))}\")\n",
    "\n",
    "# 分析楼主部分\n",
    "analyze_diff(df_last_same, df_this_same, label=\"楼主\", is_reply=False)\n",
    "# 分析回复部分\n",
    "analyze_diff(df_last_diff, df_this_diff, label=\"回复\", is_reply=True)"
   ]
  },
  {
   "cell_type": "code",
   "execution_count": null,
   "id": "128e6d3e",
   "metadata": {},
   "outputs": [],
   "source": []
  }
 ],
 "metadata": {
  "kernelspec": {
   "display_name": "Python 3 (ipykernel)",
   "language": "python",
   "name": "python3"
  },
  "language_info": {
   "codemirror_mode": {
    "name": "ipython",
    "version": 3
   },
   "file_extension": ".py",
   "mimetype": "text/x-python",
   "name": "python",
   "nbconvert_exporter": "python",
   "pygments_lexer": "ipython3",
   "version": "3.11.3"
  }
 },
 "nbformat": 4,
 "nbformat_minor": 5
}
