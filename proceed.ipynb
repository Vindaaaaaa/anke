{
 "cells": [
  {
   "cell_type": "code",
   "execution_count": 1,
   "id": "119be532",
   "metadata": {},
   "outputs": [
    {
     "name": "stdout",
     "output_type": "stream",
     "text": [
      "Requirement already satisfied: pandas in d:\\anaconda3\\lib\\site-packages (1.5.3)\n",
      "Requirement already satisfied: openpyxl in d:\\anaconda3\\lib\\site-packages (3.0.10)\n",
      "Requirement already satisfied: numpy in d:\\anaconda3\\lib\\site-packages (1.24.3)\n",
      "Requirement already satisfied: pyperclip in d:\\anaconda3\\lib\\site-packages (1.9.0)\n",
      "Requirement already satisfied: python-dateutil>=2.8.1 in d:\\anaconda3\\lib\\site-packages (from pandas) (2.8.2)\n",
      "Requirement already satisfied: pytz>=2020.1 in d:\\anaconda3\\lib\\site-packages (from pandas) (2022.7)\n",
      "Requirement already satisfied: et_xmlfile in d:\\anaconda3\\lib\\site-packages (from openpyxl) (1.1.0)\n",
      "Requirement already satisfied: six>=1.5 in d:\\anaconda3\\lib\\site-packages (from python-dateutil>=2.8.1->pandas) (1.16.0)\n",
      "Note: you may need to restart the kernel to use updated packages.\n"
     ]
    }
   ],
   "source": [
    "#安装第三方包\n",
    "pip install pandas openpyxl numpy pyperclip"
   ]
  },
  {
   "cell_type": "code",
   "execution_count": 1,
   "id": "99e0f003",
   "metadata": {},
   "outputs": [],
   "source": [
    "# 导入\n",
    "import pandas as pd\n",
    "from datetime import datetime\n",
    "import re\n",
    "from openpyxl.utils import get_column_letter\n",
    "from pandas import ExcelWriter\n",
    "import numpy as np\n",
    "import pyperclip\n",
    "import os"
   ]
  },
  {
   "cell_type": "code",
   "execution_count": 3,
   "id": "81ebc338",
   "metadata": {},
   "outputs": [
    {
     "name": "stderr",
     "output_type": "stream",
     "text": [
      "C:\\Users\\19872\\AppData\\Local\\Temp\\ipykernel_6048\\1595213853.py:30: DeprecationWarning: In a future version, `df.iloc[:, i] = newvals` will attempt to set the values inplace instead of always setting a new array. To retain the old behavior, use either `df[df.columns[i]] = newvals` or, if columns are non-unique, `df.isetitem(i, newvals)`\n",
      "  df.iloc[:, 0] = pd.to_numeric(df.iloc[:, 0], errors='coerce')  # 转成数字，非法项为NaN\n"
     ]
    },
    {
     "name": "stdout",
     "output_type": "stream",
     "text": [
      "文件处理完毕。\n"
     ]
    },
    {
     "name": "stderr",
     "output_type": "stream",
     "text": [
      "C:\\Users\\19872\\AppData\\Local\\Temp\\ipykernel_6048\\1595213853.py:30: DeprecationWarning: In a future version, `df.iloc[:, i] = newvals` will attempt to set the values inplace instead of always setting a new array. To retain the old behavior, use either `df[df.columns[i]] = newvals` or, if columns are non-unique, `df.isetitem(i, newvals)`\n",
      "  df.iloc[:, 0] = pd.to_numeric(df.iloc[:, 0], errors='coerce')  # 转成数字，非法项为NaN\n"
     ]
    }
   ],
   "source": [
    "# 输入上次和本次采集数据的日期\n",
    "datetime_last = datetime(2025,7,14) # 上次采集数据的日期\n",
    "datetime_this = datetime(2025,7,15) # 本次采集数据的日期\n",
    "\n",
    "# 构造文件路径\n",
    "def get_file_paths(date):\n",
    "    date_str = date.strftime('%Y-%m-%d')\n",
    "    raw_path = f'raw_data/calculate-{date_str}.xlsx'\n",
    "    save_path = f'raw_data/proceed/calculate-{date_str}.xlsx'\n",
    "    return raw_path, save_path\n",
    "\n",
    "# 创建保存目录（如果不存在）\n",
    "os.makedirs('raw_data/proceed', exist_ok=True)\n",
    "\n",
    "# 处理单个文件\n",
    "def process_file(input_path, output_path):\n",
    "    # 读取文件\n",
    "    df = pd.read_excel(input_path)\n",
    "\n",
    "    # 2.1 去除前两列\n",
    "    df = df.iloc[:, 2:]\n",
    "\n",
    "    # 2.2 去除第三列中的所有“#”，并转换为数值型以便正确排序\n",
    "    if df.shape[1] >= 1:\n",
    "        df.iloc[:, 0] = df.iloc[:, 0].astype(str).str.replace('#', '', regex=False)\n",
    "        df.iloc[:, 0] = pd.to_numeric(df.iloc[:, 0], errors='coerce')  # 转成数字，非法项为NaN\n",
    "\n",
    "    # 2.3 根据第三列排序（现在是第一列）\n",
    "    df = df.sort_values(by=df.columns[0], ascending=True)\n",
    "\n",
    "    # 2.4 去除重复行\n",
    "    df = df.drop_duplicates()\n",
    "    \n",
    "    # 2.5 将最后一列中的空值替换为 0\n",
    "    if df.shape[1] >= 1:\n",
    "        df.iloc[:, -1] = df.iloc[:, -1].fillna(0)\n",
    "    \n",
    "    # 保存结果\n",
    "    df.to_excel(output_path, index=False)\n",
    "\n",
    "# 处理两个文件\n",
    "for dt in [datetime_last, datetime_this]:\n",
    "    input_file, output_file = get_file_paths(dt)\n",
    "    process_file(input_file, output_file)\n",
    "\n",
    "print(\"文件处理完毕。\")\n"
   ]
  },
  {
   "cell_type": "code",
   "execution_count": 4,
   "id": "b5c6f858",
   "metadata": {},
   "outputs": [
    {
     "name": "stdout",
     "output_type": "stream",
     "text": [
      "\n",
      "===== 分析报告 =====\n",
      "从2025-07-14 到2025-07-15\n",
      "[更新] 楼主更新了 0 次。\n",
      "[推荐] 增加了 0 推荐。\n",
      "[推荐增加] 所有楼层都没有推荐增加。\n",
      "[回复] 增加了0回复。\n",
      "[回复推荐] 回复增加了 0 推荐。\n",
      "[推荐增加] 所有回复都没有推荐增加\n"
     ]
    }
   ],
   "source": [
    "import pandas as pd\n",
    "from datetime import datetime\n",
    "\n",
    "# 设置用户名（可自定义）\n",
    "username = '斯格里芬'\n",
    "\n",
    "# 定义日期\n",
    "datetime_last = datetime(2025, 7, 14)\n",
    "datetime_this = datetime(2025, 7, 15)\n",
    "\n",
    "# 构造文件路径\n",
    "def get_file_path(date):\n",
    "    date_str = date.strftime('%Y-%m-%d')\n",
    "    return f'raw_data/proceed/tongji-{date_str}.xlsx'\n",
    "\n",
    "# 读取两个文件\n",
    "df_last = pd.read_excel(get_file_path(datetime_last))\n",
    "df_this = pd.read_excel(get_file_path(datetime_this))\n",
    "\n",
    "# 按用户名是否相同进行分组\n",
    "def split_by_username(df, username_column='author'):\n",
    "    if username_column not in df.columns:\n",
    "        raise ValueError(f\"列 '{username_column}' 不存在，请检查 Excel 文件。\")\n",
    "    return df[df[username_column] == username], df[df[username_column] != username]\n",
    "\n",
    "df_last_same, df_last_diff = split_by_username(df_last)\n",
    "df_this_same, df_this_diff = split_by_username(df_this)\n",
    "\n",
    "# 统一打印分析报告\n",
    "print(\"\\n===== 分析报告 =====\")\n",
    "print(f\"从{datetime_last.date()} 到{datetime_this.date()}\")\n",
    "\n",
    "# 分析楼主（用户名相同）\n",
    "rows_same_last = len(df_last_same)\n",
    "rows_same_this = len(df_this_same)\n",
    "recommend_same_last = df_last_same.iloc[:, -1].sum()\n",
    "recommend_same_this = df_this_same.iloc[:, -1].sum()\n",
    "\n",
    "print(f\"[更新] 楼主更新了 {rows_same_this - rows_same_last} 次。\")\n",
    "print(f\"[推荐] 增加了 {recommend_same_this - recommend_same_last} 推荐。\")\n",
    "\n",
    "# 查找楼主推荐增加的相同行\n",
    "def get_changed_recommend(df1, df2):\n",
    "    if df1.empty or df2.empty:\n",
    "        return []\n",
    "    index_cols = df1.columns[:-1]\n",
    "    df1_indexed = df1.set_index(list(index_cols))\n",
    "    df2_indexed = df2.set_index(list(index_cols))\n",
    "    common_index = df1_indexed.index.intersection(df2_indexed.index)\n",
    "    if common_index.empty:\n",
    "        return []\n",
    "    last1 = df1_indexed.loc[common_index].iloc[:, -1]\n",
    "    last2 = df2_indexed.loc[common_index].iloc[:, -1]\n",
    "    changed = last1 != last2\n",
    "    changed_rows = common_index[changed]\n",
    "    return [(list(idx), last1.loc[idx], last2.loc[idx]) for idx in changed_rows]\n",
    "\n",
    "changed_main = get_changed_recommend(df_last_same, df_this_same)\n",
    "if changed_main:\n",
    "    print(\"[推荐增加] 发生推荐变化的楼主楼层：\")\n",
    "    for idx, old, new in changed_main:\n",
    "        print(f\"  第 {idx} 楼增加了{new-old}推荐\")\n",
    "else:\n",
    "    print(\"[推荐增加] 所有楼层都没有推荐增加。\")\n",
    "\n",
    "# 分析回复（用户名不同）\n",
    "rows_diff_last = len(df_last_diff)\n",
    "rows_diff_this = len(df_this_diff)\n",
    "recommend_diff_last = df_last_diff.iloc[:, -1].sum()\n",
    "recommend_diff_this = df_this_diff.iloc[:, -1].sum()\n",
    "\n",
    "print(f\"[回复] 增加了{rows_diff_this - rows_diff_last}回复。\")\n",
    "print(f\"[回复推荐] 回复增加了 {recommend_diff_this - recommend_diff_last} 推荐。\")\n",
    "\n",
    "changed_reply = get_changed_recommend(df_last_diff, df_this_diff)\n",
    "if changed_reply:\n",
    "    print(\"[推荐增加] 发生推荐变化的回复楼层：\")\n",
    "    for idx, old, new in changed_reply:\n",
    "        print(f\"  第 {idx} 楼增加了{new-old}推荐\")\n",
    "else:\n",
    "    print(\"[推荐增加] 所有回复都没有推荐增加\")\n"
   ]
  },
  {
   "cell_type": "code",
   "execution_count": null,
   "id": "e39e52b5",
   "metadata": {},
   "outputs": [],
   "source": []
  }
 ],
 "metadata": {
  "kernelspec": {
   "display_name": "Python 3 (ipykernel)",
   "language": "python",
   "name": "python3"
  },
  "language_info": {
   "codemirror_mode": {
    "name": "ipython",
    "version": 3
   },
   "file_extension": ".py",
   "mimetype": "text/x-python",
   "name": "python",
   "nbconvert_exporter": "python",
   "pygments_lexer": "ipython3",
   "version": "3.11.3"
  }
 },
 "nbformat": 4,
 "nbformat_minor": 5
}
