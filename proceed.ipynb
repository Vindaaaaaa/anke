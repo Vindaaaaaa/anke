{
 "cells": [
  {
   "cell_type": "code",
   "execution_count": 1,
   "id": "aee67249",
   "metadata": {},
   "outputs": [
    {
     "name": "stdout",
     "output_type": "stream",
     "text": [
      "Requirement already satisfied: pandas in d:\\anaconda3\\lib\\site-packages (1.5.3)\n",
      "Requirement already satisfied: openpyxl in d:\\anaconda3\\lib\\site-packages (3.0.10)\n",
      "Requirement already satisfied: numpy in d:\\anaconda3\\lib\\site-packages (1.24.3)\n",
      "Requirement already satisfied: pyperclip in d:\\anaconda3\\lib\\site-packages (1.9.0)\n",
      "Requirement already satisfied: python-dateutil>=2.8.1 in d:\\anaconda3\\lib\\site-packages (from pandas) (2.8.2)\n",
      "Requirement already satisfied: pytz>=2020.1 in d:\\anaconda3\\lib\\site-packages (from pandas) (2022.7)\n",
      "Requirement already satisfied: et_xmlfile in d:\\anaconda3\\lib\\site-packages (from openpyxl) (1.1.0)\n",
      "Requirement already satisfied: six>=1.5 in d:\\anaconda3\\lib\\site-packages (from python-dateutil>=2.8.1->pandas) (1.16.0)\n",
      "Note: you may need to restart the kernel to use updated packages.\n"
     ]
    }
   ],
   "source": [
    "#安装第三方包\n",
    "pip install pandas openpyxl numpy pyperclip"
   ]
  },
  {
   "cell_type": "code",
   "execution_count": 1,
   "id": "41fc5b6d",
   "metadata": {},
   "outputs": [],
   "source": [
    "# 导入\n",
    "import pandas as pd\n",
    "from datetime import datetime\n",
    "import re\n",
    "from openpyxl.utils import get_column_letter\n",
    "from pandas import ExcelWriter\n",
    "import numpy as np\n",
    "import pyperclip\n",
    "import os"
   ]
  },
  {
   "cell_type": "code",
   "execution_count": 3,
   "id": "e854842c",
   "metadata": {},
   "outputs": [
    {
     "name": "stderr",
     "output_type": "stream",
     "text": [
      "C:\\Users\\19872\\AppData\\Local\\Temp\\ipykernel_6048\\1595213853.py:30: DeprecationWarning: In a future version, `df.iloc[:, i] = newvals` will attempt to set the values inplace instead of always setting a new array. To retain the old behavior, use either `df[df.columns[i]] = newvals` or, if columns are non-unique, `df.isetitem(i, newvals)`\n",
      "  df.iloc[:, 0] = pd.to_numeric(df.iloc[:, 0], errors='coerce')  # 转成数字，非法项为NaN\n"
     ]
    },
    {
     "name": "stdout",
     "output_type": "stream",
     "text": [
      "文件处理完毕。\n"
     ]
    },
    {
     "name": "stderr",
     "output_type": "stream",
     "text": [
      "C:\\Users\\19872\\AppData\\Local\\Temp\\ipykernel_6048\\1595213853.py:30: DeprecationWarning: In a future version, `df.iloc[:, i] = newvals` will attempt to set the values inplace instead of always setting a new array. To retain the old behavior, use either `df[df.columns[i]] = newvals` or, if columns are non-unique, `df.isetitem(i, newvals)`\n",
      "  df.iloc[:, 0] = pd.to_numeric(df.iloc[:, 0], errors='coerce')  # 转成数字，非法项为NaN\n"
     ]
    }
   ],
   "source": [
    "\n",
    "\n",
    "# 输入上次和本次采集数据的日期\n",
    "datetime_last = datetime(2025,7,14) # 上次采集数据的日期\n",
    "datetime_this = datetime(2025,7,15) # 本次采集数据的日期\n",
    "\n",
    "# 构造文件路径\n",
    "def get_file_paths(date):\n",
    "    date_str = date.strftime('%Y-%m-%d')\n",
    "    raw_path = f'raw_data/calculate-{date_str}.xlsx'\n",
    "    save_path = f'raw_data/proceed/calculate-{date_str}.xlsx'\n",
    "    return raw_path, save_path\n",
    "\n",
    "# 创建保存目录（如果不存在）\n",
    "os.makedirs('raw_data/proceed', exist_ok=True)\n",
    "\n",
    "# 处理单个文件\n",
    "def process_file(input_path, output_path):\n",
    "    # 读取文件\n",
    "    df = pd.read_excel(input_path)\n",
    "\n",
    "    # 2.1 去除前两列\n",
    "    df = df.iloc[:, 2:]\n",
    "\n",
    "    # 2.2 去除第三列中的所有“#”，并转换为数值型以便正确排序\n",
    "    if df.shape[1] >= 1:\n",
    "        df.iloc[:, 0] = df.iloc[:, 0].astype(str).str.replace('#', '', regex=False)\n",
    "        df.iloc[:, 0] = pd.to_numeric(df.iloc[:, 0], errors='coerce')  # 转成数字，非法项为NaN\n",
    "\n",
    "    # 2.3 根据第三列排序（现在是第一列）\n",
    "    df = df.sort_values(by=df.columns[0], ascending=True)\n",
    "\n",
    "    # 2.4 去除重复行\n",
    "    df = df.drop_duplicates()\n",
    "    \n",
    "    # 2.5 将最后一列中的空值替换为 0\n",
    "    if df.shape[1] >= 1:\n",
    "        df.iloc[:, -1] = df.iloc[:, -1].fillna(0)\n",
    "    \n",
    "    # 保存结果\n",
    "    df.to_excel(output_path, index=False)\n",
    "\n",
    "# 处理两个文件\n",
    "for dt in [datetime_last, datetime_this]:\n",
    "    input_file, output_file = get_file_paths(dt)\n",
    "    process_file(input_file, output_file)\n",
    "\n",
    "print(\"文件处理完毕。\")\n"
   ]
  },
  {
   "cell_type": "code",
   "execution_count": 8,
   "id": "d8727452",
   "metadata": {},
   "outputs": [
    {
     "name": "stdout",
     "output_type": "stream",
     "text": [
      "\n",
      "===== 分析：楼主 =====\n",
      "[更新] 2025-07-15 比 2025-07-14 更新了 0 次。\n",
      "[推荐] 2025-07-15 的总推荐为621比 2025-07-14 增加了 0 推荐。\n",
      "[推荐增加] 没有推荐增加\n",
      "\n",
      "===== 分析：回复 =====\n",
      "[更新] 2025-07-15 比 2025-07-14 更新了 0 次。\n",
      "[推荐] 2025-07-15 的总推荐为84比 2025-07-14 增加了 0 推荐。\n",
      "[推荐增加] 没有推荐增加\n"
     ]
    }
   ],
   "source": [
    "\n",
    "\n",
    "# 设置用户名（可自定义）\n",
    "username = '斯格里芬'\n",
    "\n",
    "# 定义日期\n",
    "datetime_last = datetime(2025, 7, 14)\n",
    "datetime_this = datetime(2025, 7, 15)\n",
    "\n",
    "# 构造文件路径\n",
    "def get_file_path(date):\n",
    "    date_str = date.strftime('%Y-%m-%d')\n",
    "    return f'raw_data/proceed/tongji-{date_str}.xlsx'\n",
    "\n",
    "# 读取两个文件\n",
    "df_last = pd.read_excel(get_file_path(datetime_last))\n",
    "df_this = pd.read_excel(get_file_path(datetime_this))\n",
    "\n",
    "# 按用户名是否相同进行分组\n",
    "def split_by_username(df, username_column='author'):\n",
    "    if username_column not in df.columns:\n",
    "        raise ValueError(f\"列 '{username_column}' 不存在，请检查 Excel 文件。\")\n",
    "    return df[df[username_column] == username], df[df[username_column] != username]\n",
    "\n",
    "df_last_same, df_last_diff = split_by_username(df_last)\n",
    "df_this_same, df_this_diff = split_by_username(df_this)\n",
    "\n",
    "# 封装分析函数\n",
    "def analyze_diff(df1, df2, label):\n",
    "    print(f\"\\n===== 分析：{label} =====\")\n",
    "    \n",
    "    # 1. 行数差异\n",
    "    rows_1 = len(df1)\n",
    "    rows_2 = len(df2)\n",
    "    print(f\"[更新] {datetime_this.date()} 比 {datetime_last.date()} 更新了 {rows_2 - rows_1} 次。\")\n",
    "\n",
    "    # 2. 累计值变化（最后一列）\n",
    "    sum_1 = df1.iloc[:, -1].sum()\n",
    "    sum_2 = df2.iloc[:, -1].sum()\n",
    "    print(f\"[推荐] {datetime_this.date()} 的总推荐为{sum_2}比 {datetime_last.date()} 增加了 {sum_2 - sum_1} 推荐。\")\n",
    "\n",
    "    # 3. 相同行最后一列值变化（除最后一列作为匹配依据）\n",
    "    if df1.empty or df2.empty:\n",
    "        print(\"[错误] 表为空。\")\n",
    "        return\n",
    "\n",
    "    cols_except_last = df1.columns[:-1]\n",
    "    df1_indexed = df1.set_index(list(cols_except_last))\n",
    "    df2_indexed = df2.set_index(list(cols_except_last))\n",
    "\n",
    "    common_index = df1_indexed.index.intersection(df2_indexed.index)\n",
    "    if common_index.empty:\n",
    "        print(\"[错误] 无完全相同的行。\")\n",
    "        return\n",
    "\n",
    "    last_col_1 = df1_indexed.loc[common_index].iloc[:, -1]\n",
    "    last_col_2 = df2_indexed.loc[common_index].iloc[:, -1]\n",
    "\n",
    "    changed = last_col_1 != last_col_2\n",
    "    changed_rows = common_index[changed]\n",
    "\n",
    "    if not changed_rows.empty:\n",
    "        print(f\"[推荐增加] 共有 {len(changed_rows)} 楼的推荐增加了：\")\n",
    "        for idx in changed_rows:\n",
    "            print(f\"第 {list(idx)}楼，原推荐: {last_col_1.loc[idx]}，新推荐: {last_col_2.loc[idx]}\")\n",
    "    else:\n",
    "        print(\"[推荐增加] 没有推荐增加\")\n",
    "\n",
    "# 分析“用户名相同”的部分\n",
    "analyze_diff(df_last_same, df_this_same, f\"楼主\")\n",
    "\n",
    "# 分析“用户名不同”的部分\n",
    "analyze_diff(df_last_diff, df_this_diff, f\"回复\")\n"
   ]
  },
  {
   "cell_type": "code",
   "execution_count": null,
   "id": "de7a340f",
   "metadata": {},
   "outputs": [],
   "source": []
  }
 ],
 "metadata": {
  "kernelspec": {
   "display_name": "Python 3 (ipykernel)",
   "language": "python",
   "name": "python3"
  },
  "language_info": {
   "codemirror_mode": {
    "name": "ipython",
    "version": 3
   },
   "file_extension": ".py",
   "mimetype": "text/x-python",
   "name": "python",
   "nbconvert_exporter": "python",
   "pygments_lexer": "ipython3",
   "version": "3.11.3"
  }
 },
 "nbformat": 4,
 "nbformat_minor": 5
}
